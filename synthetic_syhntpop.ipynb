{
 "cells": [
  {
   "cell_type": "code",
   "execution_count": null,
   "id": "4f9d8d80-2787-4492-a2f8-03377ee8bcb1",
   "metadata": {},
   "outputs": [],
   "source": [
    "!pip install py-synthpop"
   ]
  },
  {
   "cell_type": "code",
   "execution_count": 1,
   "id": "1b1b4635-c32c-4a96-8270-066433249fd4",
   "metadata": {},
   "outputs": [],
   "source": [
    "from synthpop import Synthpop\n",
    "import pandas as pd\n",
    "from pathlib import Path\n",
    "import json"
   ]
  },
  {
   "cell_type": "code",
   "execution_count": 2,
   "id": "b1486982-dd54-47e4-8c92-93df38c7a2fd",
   "metadata": {},
   "outputs": [
    {
     "name": "stdout",
     "output_type": "stream",
     "text": [
      "train_AFNLWGT\n",
      "train_AGI\n",
      "train_EMCONTRB\n",
      "train_FEDTAX\n",
      "train_PTOTVAL\n",
      "train_STATETAX\n",
      "train_TAXINC\n",
      "train_POTHVAL\n",
      "train_INTVAL\n",
      "train_FICA\n",
      "train_WSALVAL\n",
      "train_ERNVAL\n",
      "1080\n",
      "generate_AFNLWGT\n",
      "generate_AGI\n",
      "generate_EMCONTRB\n",
      "generate_FEDTAX\n",
      "generate_PTOTVAL\n",
      "generate_STATETAX\n",
      "generate_TAXINC\n",
      "generate_POTHVAL\n",
      "generate_INTVAL\n",
      "generate_FICA\n",
      "generate_WSALVAL\n",
      "generate_ERNVAL\n",
      "   AFNLWGT    AGI  EMCONTRB  FEDTAX  PTOTVAL  STATETAX  TAXINC  POTHVAL  \\\n",
      "0   190794  98740      5864   13765    89969      3736   67524    12050   \n",
      "1    34924  91058      4390   13368    62000      1820   66576     1100   \n",
      "2   336948  19127      1569    1812    20378       513   11987      189   \n",
      "3   287388  24454      1068    2693    25456      1161   17716       10   \n",
      "4   104721  93593      4570   14107    61011       237   67697     8426   \n",
      "\n",
      "   INTVAL  FICA  WSALVAL  ERNVAL  \n",
      "0     105  4902    82000   70000  \n",
      "1     865  4590    59500   62500  \n",
      "2       2  1530    20411   20865  \n",
      "3       3  1912    25000   25000  \n",
      "4     250  3825    38201   34000  \n"
     ]
    }
   ],
   "source": [
    "pd.set_option('display.max_columns', None)\n",
    "\n",
    "dtypes_path = (\"dtypes_CASC.json\")\n",
    "csv_path = str(\"CASCrefmicrodata12.csv\")\n",
    "\n",
    "# dtypes_path = (data_folder / \"dtypes_adult_labeled.json\")\n",
    "# csv_path = str(data_folder / \"adult3.csv\")\n",
    "\n",
    "with open(dtypes_path, 'r') as f:\n",
    "    dtypes = json.load(f)\n",
    "\n",
    "columns = list(dtypes.keys())\n",
    "df = pd.read_csv(csv_path, header=0, names=columns).astype(dtypes)\n",
    "\n",
    "# print(df.head())\n",
    "\n",
    "spop = Synthpop()\n",
    "spop.fit(df, dtypes)\n",
    "print(len(df))\n",
    "synth_df = spop.generate(len(df))\n",
    "\n",
    "synth_df.to_csv('CASC_synthpop.csv', index=False)\n",
    "# synth_df.to_csv('adult_synthpop.csv', index=False)\n",
    "\n",
    "print(synth_df.head())"
   ]
  },
  {
   "cell_type": "code",
   "execution_count": 4,
   "id": "150f3e63-5d13-44c7-a56a-3890a5a22e25",
   "metadata": {},
   "outputs": [
    {
     "name": "stdout",
     "output_type": "stream",
     "text": [
      "train_age\n",
      "train_workclass\n",
      "train_education\n",
      "train_marital-status\n",
      "train_occupation\n",
      "train_relationship\n",
      "train_race\n",
      "train_sex\n",
      "train_hours-per-week\n",
      "train_native-country\n",
      "train_prediction\n",
      "45222\n",
      "generate_age\n",
      "generate_workclass\n",
      "generate_education\n",
      "generate_marital-status\n",
      "generate_occupation\n",
      "generate_relationship\n",
      "generate_race\n",
      "generate_sex\n",
      "generate_hours-per-week\n",
      "generate_native-country\n",
      "generate_prediction\n",
      "   age    workclass  education      marital-status    occupation relationship  \\\n",
      "0   55      Private          9  Married-civ-spouse  Craft-repair      Husband   \n",
      "1   19      Private          7       Never-married         Sales    Own-child   \n",
      "2   20  Federal-gov         11       Never-married  Adm-clerical    Own-child   \n",
      "3   55      Private          9            Divorced  Adm-clerical    Unmarried   \n",
      "4   28      Private         13       Never-married  Tech-support    Own-child   \n",
      "\n",
      "    race     sex  hours-per-week native-country prediction  \n",
      "0  White    Male              40  United-States       >50K  \n",
      "1  White  Female              15  United-States      <=50K  \n",
      "2  White  Female              36  United-States      <=50K  \n",
      "3  Black  Female              40  United-States      <=50K  \n",
      "4  White    Male              50  United-States      <=50K  \n"
     ]
    }
   ],
   "source": [
    "pd.set_option('display.max_columns', None)\n",
    "\n",
    "dtypes_path = (\"dtypes_adult_labeled.json\")\n",
    "csv_path = str(\"adult3.csv\")\n",
    "\n",
    "with open(dtypes_path, 'r') as f:\n",
    "    dtypes = json.load(f)\n",
    "\n",
    "columns = list(dtypes.keys())\n",
    "df = pd.read_csv(csv_path, header=0, names=columns).astype(dtypes)\n",
    "\n",
    "# print(df.head())\n",
    "\n",
    "spop = Synthpop()\n",
    "spop.fit(df, dtypes)\n",
    "print(len(df))\n",
    "synth_df = spop.generate(len(df))\n",
    "\n",
    "synth_df.to_csv('CASC_synthpop.csv', index=False)\n",
    "# synth_df.to_csv('adult_synthpop.csv', index=False)\n",
    "\n",
    "print(synth_df.head())"
   ]
  },
  {
   "cell_type": "code",
   "execution_count": null,
   "id": "a44ed872-99f1-45a7-b419-26e098132093",
   "metadata": {},
   "outputs": [],
   "source": []
  }
 ],
 "metadata": {
  "kernelspec": {
   "display_name": "Python 3 (ipykernel)",
   "language": "python",
   "name": "python3"
  },
  "language_info": {
   "codemirror_mode": {
    "name": "ipython",
    "version": 3
   },
   "file_extension": ".py",
   "mimetype": "text/x-python",
   "name": "python",
   "nbconvert_exporter": "python",
   "pygments_lexer": "ipython3",
   "version": "3.10.11"
  }
 },
 "nbformat": 4,
 "nbformat_minor": 5
}
